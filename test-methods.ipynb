{
 "cells": [
  {
   "cell_type": "code",
   "execution_count": 62,
   "metadata": {},
   "outputs": [],
   "source": [
    "import numpy as np\n",
    "import mc_nsh\n",
    "import nsh\n",
    "import matplotlib.pyplot as plt\n",
    "import time\n",
    "from math import floor\n",
    "import matplotlib\n",
    "matplotlib.rcParams['mathtext.fontset'] = 'stix'\n",
    "matplotlib.rcParams['font.family'] = 'STIXGeneral'\n",
    "\n",
    "# Matin's implementation of the NSH algorithm\n",
    "def NSH(f):\n",
    "  m = np.mean(f)\n",
    "  G = 0\n",
    "  if len(f.shape) == 1:\n",
    "    f = np.reshape(f, (-1, 1))\n",
    "  d1 = f.shape[0]\n",
    "  d2 = f.shape[1]\n",
    "  h = np.hstack((f,f))\n",
    "  f_ = np.vstack((h,h))\n",
    "  i = 0\n",
    "\n",
    "  G_array  = np.zeros(d1*d2*d1*d2)\n",
    "  for y in range(d2):\n",
    "      for ly in range(1, d2+1):\n",
    "          for x in range(d1):\n",
    "              for lx in range(1, d1+1):\n",
    "                  range_x = np.arange(x, x+lx)\n",
    "                  range_y = np.arange(y, y+ly)\n",
    "                  G += abs(np.mean(f_[np.ix_(range_x,range_y)])-m)\n",
    "                  G_array[i] = G\n",
    "                  i +=1\n",
    "                  \n",
    "  #print('G = ', G)\n",
    "  return G*2/(m*d1*d2*(3*d1*d2-d1-d2-1))"
   ]
  },
  {
   "cell_type": "markdown",
   "metadata": {},
   "source": []
  },
  {
   "cell_type": "code",
   "execution_count": 2,
   "metadata": {},
   "outputs": [],
   "source": []
  },
  {
   "cell_type": "markdown",
   "metadata": {},
   "source": [
    "### Unit test my naive looping Fortran method against Matin's code"
   ]
  },
  {
   "cell_type": "markdown",
   "metadata": {},
   "source": [
    "Testing Array"
   ]
  },
  {
   "cell_type": "code",
   "execution_count": null,
   "metadata": {},
   "outputs": [],
   "source": [
    "array_dim = 10 \n",
    "a = np.random.rand(array_dim, array_dim)"
   ]
  },
  {
   "cell_type": "code",
   "execution_count": 3,
   "metadata": {},
   "outputs": [],
   "source": [
    "# time how long it takes for the NSH algorithm to run\n",
    "def time_python_NSH(f):\n",
    "  start = time.time()\n",
    "  NSH(f)\n",
    "  end = time.time()\n",
    "  return end - start\n",
    "\n",
    "# time how long it takes for the MC-NSH algorithm to run\n",
    "def time_fortran_NSH(f):\n",
    "  start = time.time()\n",
    "  nsh.normalizedspatialhet(f)\n",
    "  end = time.time()\n",
    "  return end - start"
   ]
  },
  {
   "cell_type": "code",
   "execution_count": 4,
   "metadata": {},
   "outputs": [
    {
     "name": "stdout",
     "output_type": "stream",
     "text": [
      "Absolute error: 8.326672684688674e-17\n",
      "Relative error: 1.2956304224531906e-15\n"
     ]
    }
   ],
   "source": [
    "nsh_python = NSH(a)\n",
    "nsh_fortran = nsh.normalizedspatialhet(a)\n",
    "\n",
    "abs_err = abs(nsh_fortran - nsh_python)\n",
    "rel_err = abs(nsh_fortran - nsh_python) / nsh_python\n",
    "\n",
    "print(f'Absolute error: {abs_err}')\n",
    "print(f'Relative error: {rel_err}')"
   ]
  },
  {
   "cell_type": "markdown",
   "metadata": {},
   "source": [
    "#### Timings and speedup for Fortran implementation"
   ]
  },
  {
   "cell_type": "code",
   "execution_count": 5,
   "metadata": {},
   "outputs": [
    {
     "name": "stdout",
     "output_type": "stream",
     "text": [
      "Time for Python NSH: 298.43759536743164 ms\n",
      "Time for Fortran NSH: 0.3020763397216797 ms\n",
      "Speedup: 987.9542225730071\n"
     ]
    }
   ],
   "source": [
    "time_python = time_python_NSH(a)\n",
    "time_fortran = time_fortran_NSH(a)\n",
    "\n",
    "print(f'Time for Python NSH: {1000*time_python} ms')\n",
    "print(f'Time for Fortran NSH: {1000*time_fortran} ms')\n",
    "print(f'Speedup: {time_python / time_fortran}')"
   ]
  },
  {
   "cell_type": "markdown",
   "metadata": {},
   "source": [
    "### Unit test Monte Carlo code against Fortran routine"
   ]
  },
  {
   "cell_type": "markdown",
   "metadata": {},
   "source": [
    "Testing array"
   ]
  },
  {
   "cell_type": "code",
   "execution_count": 87,
   "metadata": {},
   "outputs": [],
   "source": [
    "array_dim = 100 \n",
    "a = np.zeros((array_dim, array_dim))\n",
    "a[25, 25] = 1\n",
    "#a = np.random.rand(array_dim, array_dim)"
   ]
  },
  {
   "cell_type": "code",
   "execution_count": 88,
   "metadata": {},
   "outputs": [],
   "source": [
    "#nsh_true = nsh.normalizedspatialhet(a)\n",
    "nsh_true = 1"
   ]
  },
  {
   "cell_type": "code",
   "execution_count": 89,
   "metadata": {},
   "outputs": [],
   "source": [
    "max_permutes = array_dim**4\n",
    "n_estimates = 100\n",
    "estimates = np.zeros(n_estimates)\n",
    "rel_errs = np.zeros(n_estimates)\n",
    "permutes = np.logspace(1, floor(np.log10(max_permutes)), n_estimates, dtype=int)\n",
    "for i, p in enumerate(permutes):\n",
    "    if i % 10 == 0:\n",
    "        print(f'Iteration: {i}')\n",
    "    nsh_est_avg = 0\n",
    "    nsh_estimates = np.zeros(10)\n",
    "    rel_err_estimates = np.zeros(10)\n",
    "    for j in range(10):\n",
    "        nsh_est = nsh.montecarlospatialhet(a, n_permutes=p)\n",
    "        rel_err = abs(nsh_est - nsh_true) / nsh_true\n",
    "        nsh_estimates[j] = nsh_est\n",
    "        rel_err_estimates[j] = rel_err\n",
    "    nsh_est = np.mean(nsh_estimates)\n",
    "    rel_err = np.mean(rel_err_estimates)\n",
    "\n",
    "    estimates[i] = nsh_est\n",
    "    rel_errs[i] = rel_err\n"
   ]
  },
  {
   "cell_type": "code",
   "execution_count": 84,
   "metadata": {},
   "outputs": [
    {
     "data": {
      "image/png": "[encoded data removed]",
      "text/plain": [
       "<Figure size 432x288 with 1 Axes>"
      ]
     },
     "metadata": {
      "needs_background": "light"
     },
     "output_type": "display_data"
    }
   ],
   "source": [
    "plt.plot(permutes, estimates)\n",
    "plt.axhline(nsh_true, color='r', ls='--', lw=1)\n",
    "plt.yscale('log')\n",
    "plt.xscale('log')"
   ]
  },
  {
   "cell_type": "code",
   "execution_count": 85,
   "metadata": {},
   "outputs": [],
   "source": [
    "def formatPlotGrid(ax):\n",
    "    \"\"\"Helper function for formatting plot grid\n",
    "    \"\"\"\n",
    "    ax.grid(which = \"major\", linewidth = 1, axis='y', ls=\"dotted\", dashes=(.5,6), c='#414141', alpha=.5)\n",
    "    ax.grid(which = \"minor\", linewidth = 1, axis='y', ls=\"dotted\", dashes=(.5,6), c='white')#, alpha=.5)\n",
    "    ax.grid(which = \"minor\", linewidth = 1, axis='x', ls=\"dotted\", dashes=(.5,6), c='#414141', alpha=.4)\n",
    "    ax.grid(which = \"major\", linewidth = 1, axis='x', ls=\"dotted\", dashes=(.5,6), c='#414141')\n",
    "    ax.tick_params(axis='both', labelsize=13, which='major', direction='in', top=True, right=True, bottom=True, left=True)\n",
    "    ax.tick_params(axis='both', which='minor',direction='in',top=True, right=True, bottom=True, left=True)"
   ]
  },
  {
   "cell_type": "code",
   "execution_count": 86,
   "metadata": {},
   "outputs": [
    {
     "data": {
      "image/png": "[encoded data removed]",
      "text/plain": [
       "<Figure size 432x288 with 1 Axes>"
      ]
     },
     "metadata": {
      "needs_background": "light"
     },
     "output_type": "display_data"
    }
   ],
   "source": [
    "fig, ax = plt.subplots(1, 1, figsize=(6, 4))\n",
    "ax.plot(permutes, rel_errs)\n",
    "\n",
    "def func(a, X):\n",
    "    return a*X**(-0.5)\n",
    "\n",
    "# draw slope triangle\n",
    "logx_min = 2\n",
    "logx_max = 3\n",
    "logy_min = -2\n",
    "logy_max = -1.5\n",
    "n_points = 100\n",
    "X_vals = np.logspace(logx_min, logx_max, n_points)\n",
    "Y_vals = np.logspace(logy_min, logy_max, n_points)\n",
    "const_arr = np.zeros(n_points,)\n",
    "\n",
    "const_arr[:] = 10**logy_min\n",
    "ax.plot(X_vals, const_arr, c='k')\n",
    "\n",
    "const_arr[:] = 10**logx_min\n",
    "ax.plot(const_arr, Y_vals, c='k')\n",
    "\n",
    "ax.plot(X_vals, func(a=.33, X=X_vals), c='k') # a: point where line intersects yaxis\n",
    "ax.text(x=10**(logx_min+0.5), y=10**(logy_min-0.2), s='2', fontsize=12, horizontalalignment='center', verticalalignment='center')\n",
    "ax.text(x=10**(logx_min-.2), y=10**(logy_min+0.25), s='1', fontsize=12, horizontalalignment='center', verticalalignment='center')\n",
    "\n",
    "ax.set_yscale('log')\n",
    "ax.set_xscale('log')\n",
    "\n",
    "ax.set_xlim(permutes[0], permutes[-1])\n",
    "\n",
    "formatPlotGrid(ax)\n",
    "\n",
    "\n",
    "ax.set_ylabel('Relative error', fontsize=14)\n",
    "ax.set_xlabel('Number of permutations', fontsize=14)\n",
    "plt.tight_layout()\n",
    "plt.savefig('monte-carlo-sh-convergence.pdf', format='pdf')\n"
   ]
  },
  {
   "cell_type": "code",
   "execution_count": null,
   "metadata": {},
   "outputs": [],
   "source": []
  }
 ],
 "metadata": {
  "kernelspec": {
   "display_name": "base",
   "language": "python",
   "name": "python3"
  },
  "language_info": {
   "codemirror_mode": {
    "name": "ipython",
    "version": 3
   },
   "file_extension": ".py",
   "mimetype": "text/x-python",
   "name": "python",
   "nbconvert_exporter": "python",
   "pygments_lexer": "ipython3",
   "version": "3.9.12"
  }
 },
 "nbformat": 4,
 "nbformat_minor": 2
}
